{
 "cells": [
  {
   "cell_type": "markdown",
   "metadata": {},
   "source": [
    "# Minhas Anotações"
   ]
  },
  {
   "cell_type": "markdown",
   "metadata": {},
   "source": [
    " 'data_version', 'date', 'months', 'garagem', 'terraco', 'piscina','terreno', 'centroid', 'pva_m2', 'data_private', 'data_public', 'thumbnail', 'classe_energetica', 'cp7', 'estado', 'gama',\n",
    "'situacao_mercado', 'tipo', 'tipologia', 'concelho', 'freguesia','regiao'\n",
    "\n",
    "-   Não irei usar como forma de separar os dados\n",
    "    -   \"situacao_mercado\": é um valor muito dificil de controlar, ja que e um site podeja ter vendido e atualizado e em outro não\n",
    "-   Acho uma boa ideia usar para separar os dados\n",
    "    -   \"garagem\",\"terraco\",\"piscina\",\"terreno\": são valores bem especificos, então não tem muit como estar enganado sobre esse valor"
   ]
  },
  {
   "cell_type": "markdown",
   "metadata": {},
   "source": [
    "# Pacotes"
   ]
  },
  {
   "cell_type": "code",
   "execution_count": 55,
   "metadata": {},
   "outputs": [],
   "source": [
    "import pandas as pd\n",
    "import numpy as np\n",
    "\n",
    "from collections import Counter"
   ]
  },
  {
   "cell_type": "markdown",
   "metadata": {},
   "source": [
    "# Dado"
   ]
  },
  {
   "cell_type": "code",
   "execution_count": 56,
   "metadata": {},
   "outputs": [
    {
     "data": {
      "text/plain": [
       "43161"
      ]
     },
     "execution_count": 56,
     "metadata": {},
     "output_type": "execute_result"
    }
   ],
   "source": [
    "df  = pd.read_csv(\"CSV_FILES\\\\data-expanded.csv\")\n",
    "len(df)"
   ]
  },
  {
   "cell_type": "markdown",
   "metadata": {},
   "source": []
  },
  {
   "cell_type": "code",
   "execution_count": 57,
   "metadata": {},
   "outputs": [
    {
     "data": {
      "text/plain": [
       "Index(['id', 'data_version', 'date', 'months', 'garagem', 'terraco', 'piscina',\n",
       "       'terreno', 'centroid', 'pva_m2', 'data_private', 'data_public', 'ecd',\n",
       "       'cfr', 'thumbnail', 'classe_energetica', 'cp7', 'estado', 'gama',\n",
       "       'situacao_mercado', 'tipo', 'tipologia', 'concelho', 'freguesia',\n",
       "       'regiao'],\n",
       "      dtype='object')"
      ]
     },
     "execution_count": 57,
     "metadata": {},
     "output_type": "execute_result"
    }
   ],
   "source": [
    "df.columns"
   ]
  },
  {
   "cell_type": "code",
   "execution_count": 54,
   "metadata": {},
   "outputs": [
    {
     "data": {
      "text/plain": [
       "Counter({False: 43030, True: 131})"
      ]
     },
     "execution_count": 54,
     "metadata": {},
     "output_type": "execute_result"
    }
   ],
   "source": [
    "Counter(df[\"terreno\"])"
   ]
  }
 ],
 "metadata": {
  "interpreter": {
   "hash": "1fd3b59dcffe8fe8784b89f8ebf47f73122aa08456e3e506a303de99c0564255"
  },
  "kernelspec": {
   "display_name": "Python 3.8.10 64-bit ('venv': venv)",
   "language": "python",
   "name": "python3"
  },
  "language_info": {
   "codemirror_mode": {
    "name": "ipython",
    "version": 3
   },
   "file_extension": ".py",
   "mimetype": "text/x-python",
   "name": "python",
   "nbconvert_exporter": "python",
   "pygments_lexer": "ipython3",
   "version": "3.8.10"
  },
  "orig_nbformat": 4
 },
 "nbformat": 4,
 "nbformat_minor": 2
}
