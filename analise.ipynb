{
 "cells": [
  {
   "cell_type": "markdown",
   "metadata": {},
   "source": [
    "# Minhas Anotações"
   ]
  },
  {
   "cell_type": "markdown",
   "metadata": {},
   "source": [
    "'data_private',  'thumbnail', 'cp7',  'gama',, 'tipo', 'tipologia', 'concelho', 'freguesia','regiao'\n",
    "\n",
    "-   Não sei oq fazer\n",
    "    -   'date'\n",
    "    -   'months'\n",
    "    -   'centroid'\n",
    "    -   'pva_m2'\n",
    "-   Não irei usar como forma de separar os dados\n",
    "    -   \"situacao_mercado\": é um valor muito dificil de controlar, ja que e um site podeja ter vendido e atualizado e em outro não\n",
    "-   Acho uma boa ideia usar para separar os dados\n",
    "    -   \"garagem\",\"terraco\",\"piscina\",\"terreno\": são valores bem especificos, então não tem muit como estar enganado sobre esse valor\n",
    "    -   \"data_public\"\n",
    "    -   \"classe_energetica\", dificil de se enganar em relação a energia do predio\n",
    "    -   \"estado\", sera?\n",
    "    -   \"data_public\" - \"ano de construção\"\n",
    "\n",
    "\n",
    "MAIS GERAL: \"tipo\", \"data_public\" - \"ano de construção\"\n",
    "\n",
    "GERAIS: \"garagem\",\"terraco\",\"piscina\",\"terreno\",\"classe_energetica\"\n",
    "\n",
    "\n",
    "freguesia_id da a informação completa em relação a freguesia e concelho\n",
    "\n",
    "\n",
    ". cp = codigo postal\n",
    "\n",
    ". freg contido conc\n",
    "\n",
    ". abp area do imovel -> ver se são iguais com uma determinada margem de erro\n",
    "\n"
   ]
  },
  {
   "cell_type": "markdown",
   "metadata": {},
   "source": [
    "## O que fazer:"
   ]
  },
  {
   "cell_type": "markdown",
   "metadata": {},
   "source": [
    "\n",
    "-   fazer um csv:\n",
    "    - para fazer isso eu posso percorrer todo o csv e fazer um dicionario que funcionara igual ao de detect_dupl, que retorna {img1:[img2],img2:[img1,img3],img3:[img2]} e depois simplificar e colocar no csv:\n",
    "        -   imovel1, lista possiveis iguais\n",
    "        -   imovel2, lista possiveis iguais\n",
    "\n"
   ]
  },
  {
   "cell_type": "markdown",
   "metadata": {},
   "source": [
    "# Pacotes"
   ]
  },
  {
   "cell_type": "code",
   "execution_count": 22,
   "metadata": {},
   "outputs": [],
   "source": [
    "import pandas as pd\n",
    "import numpy as np\n",
    "from collections import Counter\n",
    "from funcoes.acha_duplicadas_csv import get_informacoes"
   ]
  },
  {
   "cell_type": "markdown",
   "metadata": {},
   "source": [
    "# Dado"
   ]
  },
  {
   "cell_type": "code",
   "execution_count": 23,
   "metadata": {},
   "outputs": [
    {
     "data": {
      "text/plain": [
       "43161"
      ]
     },
     "execution_count": 23,
     "metadata": {},
     "output_type": "execute_result"
    }
   ],
   "source": [
    "df  = pd.read_csv(\"CSV_FILES\\\\data-expanded.csv\")\n",
    "df_2 = pd.read_csv(\"CSV_FILES\\dados_gabriel.csv\")\n",
    "len(df_2)"
   ]
  },
  {
   "cell_type": "code",
   "execution_count": 41,
   "metadata": {},
   "outputs": [
    {
     "data": {
      "text/plain": [
       "(Counter({'Apartamento': 33038, 'Moradia': 10123}),\n",
       " Counter({1: 33038, 2: 10123}),\n",
       " Counter({'Apt. T2': 13169,\n",
       "          'Apt. T3': 10865,\n",
       "          'Mor. T3 ou inf': 5408,\n",
       "          'Apt. T4 ou sup': 2601,\n",
       "          'Apt. T1 ou inf': 6403,\n",
       "          'Mor. T4 ou sup': 4715}))"
      ]
     },
     "execution_count": 41,
     "metadata": {},
     "output_type": "execute_result"
    }
   ],
   "source": [
    "# Counter(df[\"regiao\"])\n",
    "Counter(df[\"tipo\"]),Counter(df_2[\"tipo\"]),Counter(df[\"tipologia\"])\n",
    "# df_2[\"classe_energetica_id\"].values[0]"
   ]
  },
  {
   "cell_type": "code",
   "execution_count": 45,
   "metadata": {},
   "outputs": [],
   "source": [
    "import json\n",
    "df2 = df.data_public.apply(json.loads)\n",
    "df2 = pd.DataFrame(list(df2))"
   ]
  },
  {
   "cell_type": "code",
   "execution_count": 57,
   "metadata": {},
   "outputs": [
    {
     "data": {
      "text/plain": [
       "(107.0, 26, 945)"
      ]
     },
     "execution_count": 57,
     "metadata": {},
     "output_type": "execute_result"
    }
   ],
   "source": [
    "import matplotlib.pyplot as plt\n",
    "\n",
    "np.median(list(df2[\"abp\"])),np.min(list(df2[\"abp\"])),np.max(list(df2[\"abp\"]))\n"
   ]
  },
  {
   "cell_type": "code",
   "execution_count": 59,
   "metadata": {},
   "outputs": [
    {
     "data": {
      "text/plain": [
       "32.5"
      ]
     },
     "execution_count": 59,
     "metadata": {},
     "output_type": "execute_result"
    }
   ],
   "source": [
    "1.25 * 26"
   ]
  }
 ],
 "metadata": {
  "interpreter": {
   "hash": "1fd3b59dcffe8fe8784b89f8ebf47f73122aa08456e3e506a303de99c0564255"
  },
  "kernelspec": {
   "display_name": "Python 3.8.10 64-bit ('venv': venv)",
   "language": "python",
   "name": "python3"
  },
  "language_info": {
   "codemirror_mode": {
    "name": "ipython",
    "version": 3
   },
   "file_extension": ".py",
   "mimetype": "text/x-python",
   "name": "python",
   "nbconvert_exporter": "python",
   "pygments_lexer": "ipython3",
   "version": "3.8.10"
  },
  "orig_nbformat": 4
 },
 "nbformat": 4,
 "nbformat_minor": 2
}
